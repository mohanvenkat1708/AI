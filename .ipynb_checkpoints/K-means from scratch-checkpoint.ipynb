{
 "cells": [
  {
   "cell_type": "code",
   "execution_count": 1,
   "id": "46d0b08a",
   "metadata": {},
   "outputs": [],
   "source": []
  },
  {
   "cell_type": "code",
   "execution_count": 2,
   "id": "e50fc731",
   "metadata": {},
   "outputs": [],
   "source": [
    "import numpy as np\n",
    "import matplotlib.pyplot as plt"
   ]
  },
  {
   "cell_type": "code",
   "execution_count": 3,
   "id": "dae7210e",
   "metadata": {},
   "outputs": [],
   "source": [
    "def initialize_centroids(x,k):\n",
    "    indices=np.random.choice(len(x), k, replace=False)\n",
    "    return x[indices]"
   ]
  },
  {
   "cell_type": "code",
   "execution_count": 4,
   "id": "d2cedee2",
   "metadata": {},
   "outputs": [],
   "source": [
    "def assign_to_clusters(x,centroids):\n",
    "    distances=np.linald.norm(x[:,np.newaxis] - centroids, axis = 2)\n",
    "    return np.argmin(distances, axis=1)"
   ]
  },
  {
   "cell_type": "code",
   "execution_count": 5,
   "id": "6ab4f608",
   "metadata": {},
   "outputs": [],
   "source": [
    "def update_centroids(x, labels, k):\n",
    "    centroids= np.array([x[labels == i].mean(axis=0) for i in range(k)])\n",
    "    return centroids"
   ]
  },
  {
   "cell_type": "code",
   "execution_count": 7,
   "id": "9424c35e",
   "metadata": {},
   "outputs": [],
   "source": [
    "def k_means(x, k, max_iters=100):\n",
    "    centroids=initialize_centroids(x,k)\n",
    "    # calculate k means\n",
    "    for _ in range(max_iters):\n",
    "        labels= assign_to_clusters(x,centroids)\n",
    "        new_centroids = update_centroids(x, labels, k)\n",
    "        \n",
    "        if np.all(centroids == new_centroids):\n",
    "            break\n",
    "        centroids= new_centroids\n",
    "        \n",
    "    return labels, centroids\n"
   ]
  }
 ],
 "metadata": {
  "kernelspec": {
   "display_name": "Python 3 (ipykernel)",
   "language": "python",
   "name": "python3"
  },
  "language_info": {
   "codemirror_mode": {
    "name": "ipython",
    "version": 3
   },
   "file_extension": ".py",
   "mimetype": "text/x-python",
   "name": "python",
   "nbconvert_exporter": "python",
   "pygments_lexer": "ipython3",
   "version": "3.10.13"
  }
 },
 "nbformat": 4,
 "nbformat_minor": 5
}
